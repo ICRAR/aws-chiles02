{
 "cells": [
  {
   "cell_type": "markdown",
   "metadata": {
    "collapsed": true
   },
   "source": [
    "# SPLIT\n",
    "\n",
    "This notebook will help you split the original daily files from the CHILES observation into chunks of N Mhz "
   ]
  },
  {
   "cell_type": "markdown",
   "metadata": {},
   "source": [
    "The code is for python 3.6 or above. Run the next cell to check the value."
   ]
  },
  {
   "cell_type": "code",
   "execution_count": null,
   "metadata": {},
   "outputs": [],
   "source": [
    "from platform import python_version\n",
    "print(python_version())"
   ]
  },
  {
   "cell_type": "markdown",
   "metadata": {},
   "source": [
    "We keep the last 10 runs of data so you can see what you used last time."
   ]
  },
  {
   "cell_type": "code",
   "execution_count": null,
   "metadata": {},
   "outputs": [],
   "source": [
    "import os\n",
    "\n",
    "from configobj import ConfigObj\n",
    "\n",
    "path_dirname = os.getcwd()\n",
    "config_file_name = '{0}/aws-chiles02/aws-chiles02.settings'.format(path_dirname)\n",
    "if os.path.exists(config_file_name):\n",
    "    config = ConfigObj(config_file_name, indent_type='    ')\n",
    "else:\n",
    "    config = ConfigObj(indent_type='    ')\n",
    "    config.filename = config_file_name\n",
    "\n",
    "for key in sorted(config.keys(), reverse=True):\n",
    "    if key.startswith('split'):\n",
    "        value = config[key]\n",
    "        if isinstance(value, dict):\n",
    "            print(key)    "
   ]
  },
  {
   "cell_type": "markdown",
   "metadata": {},
   "source": [
    "If you want to reuse data. Select the key that you want to use and then uncomment the tag."
   ]
  },
  {
   "cell_type": "code",
   "execution_count": null,
   "metadata": {},
   "outputs": [],
   "source": [
    "data_to_use = config['KEY']\n",
    "\n",
    "## Override values here\n",
    "# data_to_use['create_use_json']\n",
    "# data_to_use['bucket_name']\n",
    "# data_to_use['width']\n",
    "# data_to_use['observation_phase']\n",
    "# data_to_use['shutdown']\n",
    "# data_to_use['use_bash']\n",
    "# data_to_use['volume']\n",
    "# data_to_use['run_note']\n",
    "# data_to_use['split_directory']\n",
    "# data_to_use['use_bash']\n",
    "# data_to_use['casa_version']\n",
    "# data_to_use['ami']\n",
    "# data_to_use['spot_price_i3_2xlarge']\n",
    "# data_to_use['spot_price_i3_4xlarge']\n",
    "# data_to_use['days_per_node']\n",
    "# data_to_use['dim']\n",
    "# data_to_use['nodes']\n",
    "# data_to_use['parallel_streams']\n",
    "print(data_to_use)"
   ]
  },
  {
   "cell_type": "markdown",
   "metadata": {},
   "source": [
    "If you want to set up the values from scratch"
   ]
  },
  {
   "cell_type": "code",
   "execution_count": null,
   "metadata": {},
   "outputs": [],
   "source": [
    "from aws_chiles02.settings_file import AWS_AMI_ID\n",
    "\n",
    "data_to_use = {\n",
    "    # Choose between create, use, json\n",
    "    'create_use_json': 'create',\n",
    "    \n",
    "    # The bucket to use\n",
    "    'bucket_name': '13b-266',\n",
    "    \n",
    "    # The width of the frequency in MHz\n",
    "    'width': 4,\n",
    "    \n",
    "    # The phase - 1, 2, 3\n",
    "    'observation_phase': 1,\n",
    "    \n",
    "    # Should a shut down drop be added\n",
    "    'shutdown': True,\n",
    "    \n",
    "    # The code can use docker of bash. Bash is preferred as it is much quicker\n",
    "    'use_bash': True,\n",
    "\n",
    "    # The directory on the host put the data and to bind to the Docker \n",
    "    # Apps (if Docker is to be used).\n",
    "    'volume': '/mnt/daliuge/dlg_root',\n",
    "\n",
    "    # Notes about this run\n",
    "    'run_note': '''\n",
    "Run note\n",
    "'''\n",
    "}\n",
    "\n",
    "# Where the data is put in AWS\n",
    "data_to_use['split_directory'] = 'split_{}_{}'.format(data_to_use['width'], data_to_use['observation_phase'])\n",
    "\n",
    "if data_to_use['use_bash']:\n",
    "    # Which version of CASA do you want to use. The AWS instance will switch to that version\n",
    "    # The options are '4.7' and '5.1'\n",
    "    data_to_use['casa_version'] = '5.1'\n",
    "\n",
    "if data_to_use['create_use_json'] == 'create':\n",
    "    # The AMI to use\n",
    "    data_to_use['ami'] = AWS_AMI_ID\n",
    "    \n",
    "    # Spot Price for i3.2xlarge used for the smaller files\n",
    "    data_to_use['spot_price_i3_2xlarge'] = 0.6\n",
    "    \n",
    "    # Spot Price for i3.4xlarge used for the bigger files\n",
    "    data_to_use['spot_price_i3_4xlarge'] = 1.2\n",
    "    \n",
    "    # Number of days per node. THe more days per node the slower it will run\n",
    "    data_to_use['days_per_node'] = 100\n",
    "    \n",
    "elif data_to_use['create_use_json'] == 'use':\n",
    "    # The IP to the DataIsland Manager\n",
    "    data_to_use['dim'] = '127.0.0.1'\n",
    "else:\n",
    "    # The number of nodes\n",
    "    data_to_use['nodes'] = 8\n",
    "    \n",
    "    # The number of parallel streams\n",
    "    data_to_use['parallel_streams'] =4\n"
   ]
  },
  {
   "cell_type": "markdown",
   "metadata": {},
   "source": [
    "Check the values before we call the code"
   ]
  },
  {
   "cell_type": "code",
   "execution_count": null,
   "metadata": {},
   "outputs": [],
   "source": [
    "print(data_to_use)"
   ]
  },
  {
   "cell_type": "markdown",
   "metadata": {},
   "source": [
    "Now store the run details so we can reuse it in the future"
   ]
  },
  {
   "cell_type": "code",
   "execution_count": null,
   "metadata": {},
   "outputs": [],
   "source": [
    "from datetime import datetime\n",
    "today = datetime.now()\n",
    "section_name = 'split_{:%Y_%m_%d_%H_%M_%S}'.format(today)\n",
    "\n",
    "config[section_name] = data_to_use\n",
    "\n",
    "split_keys = []\n",
    "for key in sorted(config.keys(), reverse=True): \n",
    "    if key.startswith('split'):\n",
    "        value = config[key]\n",
    "        if isinstance(value, dict):\n",
    "            split_keys.append(key)\n",
    "        \n",
    "if len(split_keys) > 10:\n",
    "    for old_key in split_keys[10:]:\n",
    "        del config[old_key]\n",
    "\n",
    "config.write()"
   ]
  },
  {
   "cell_type": "markdown",
   "metadata": {},
   "source": [
    "Make the calls to the code to start the split process"
   ]
  },
  {
   "cell_type": "code",
   "execution_count": null,
   "metadata": {},
   "outputs": [],
   "source": [
    "# Run the command\n",
    "from aws_chiles02.generate_mstransform_graph import create_and_generate, use_and_generate, build_json\n",
    "from aws_chiles02.settings_file import DIM_PORT\n",
    "\n",
    "if data_to_use['create_use_json'] == 'create':\n",
    "    create_and_generate(\n",
    "        bucket_name=data_to_use['bucket_name'],\n",
    "        frequency_width=data_to_use['width'],\n",
    "        ami_id=data_to_use['ami'],\n",
    "        spot_price1=data_to_use['spot_price_i3_2xlarge'],\n",
    "        spot_price2=data_to_use['spot_price_i3_4xlarge'],\n",
    "        volume=data_to_use['volume'],\n",
    "        days_per_node=data_to_use['days_per_node'],\n",
    "        add_shutdown=data_to_use['shutdown'],\n",
    "        use_bash=data_to_use['use_bash'],\n",
    "        casa_version=data_to_use['casa_version'],\n",
    "        split_directory=data_to_use['split_directory'],\n",
    "        observation_phase=data_to_use['observation_phase'],\n",
    "        run_note=data_to_use['run_note'], \n",
    "    )\n",
    "elif config['create_use_json'] == 'use':\n",
    "    use_and_generate(\n",
    "        host=data_to_use['dim'],\n",
    "        port=DIM_PORT,\n",
    "        bucket_name=data_to_use['bucket_name'],\n",
    "        frequency_width=data_to_use['width'],\n",
    "        volume=data_to_use['volume'],\n",
    "        add_shutdown=data_to_use['shutdown'],\n",
    "        use_bash=data_to_use['use_bash'],\n",
    "        casa_version=data_to_use['casa_version'],\n",
    "        split_directory=data_to_use['split_directory'],\n",
    "        observation_phase=data_to_use['observation_phase'],\n",
    "        run_note=data_to_use['run_note'],\n",
    "    )\n",
    "else:\n",
    "    build_json(\n",
    "        bucket=data_to_use['bucket_name'],\n",
    "        width=data_to_use['width'],\n",
    "        volume=data_to_use['volume'],\n",
    "        nodes=data_to_use['nodes'],\n",
    "        parallel_streams=data_to_use['parallel_streams'],\n",
    "        add_shutdown=data_to_use['shutdown'],\n",
    "        use_bash=data_to_use['use_bash'],\n",
    "        casa_version=data_to_use['casa_version'],\n",
    "        split_directory=data_to_use['split_directory'],\n",
    "        observation_phase=data_to_use['observation_phase'],\n",
    "        run_note=data_to_use['run_note'],\n",
    "    )\n"
   ]
  },
  {
   "cell_type": "code",
   "execution_count": null,
   "metadata": {},
   "outputs": [],
   "source": []
  }
 ],
 "metadata": {
  "kernelspec": {
   "display_name": "Python 3",
   "language": "python",
   "name": "python3"
  },
  "language_info": {
   "codemirror_mode": {
    "name": "ipython",
    "version": 3
   },
   "file_extension": ".py",
   "mimetype": "text/x-python",
   "name": "python",
   "nbconvert_exporter": "python",
   "pygments_lexer": "ipython3",
   "version": "3.6.6"
  }
 },
 "nbformat": 4,
 "nbformat_minor": 1
}
